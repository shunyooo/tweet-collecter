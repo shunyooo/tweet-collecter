{
 "cells": [
  {
   "cell_type": "markdown",
   "metadata": {},
   "source": [
    "# Streaming → DB\n",
    "\n",
    "- http://westplain.sakuraweb.com/translate/twitter/Documentation/Streaming-APIs/Public-API/POST-statuses-filter.cgi"
   ]
  },
  {
   "cell_type": "code",
   "execution_count": null,
   "metadata": {},
   "outputs": [],
   "source": [
    "import tweepy\n",
    "from utils import update_tweet_info\n",
    "from databases import refresh_session\n",
    "class MyStreamListener(tweepy.StreamListener):\n",
    "    def on_status(self, tw):\n",
    "        print('got', tw.id_str)\n",
    "        session = refresh_session()\n",
    "        update_tweet_info(session, tw)"
   ]
  },
  {
   "cell_type": "code",
   "execution_count": null,
   "metadata": {},
   "outputs": [],
   "source": [
    "from apis import api\n",
    "myStreamListener = MyStreamListener()\n",
    "myStream = tweepy.Stream(auth = api.auth, listener=myStreamListener)"
   ]
  },
  {
   "cell_type": "code",
   "execution_count": null,
   "metadata": {},
   "outputs": [],
   "source": [
    "myStream.filter(locations=[122.87, 24.84, 153.01, 46.80])"
   ]
  },
  {
   "cell_type": "code",
   "execution_count": null,
   "metadata": {},
   "outputs": [],
   "source": [
    "myStream.filter(track=['漫画'])"
   ]
  },
  {
   "cell_type": "code",
   "execution_count": null,
   "metadata": {},
   "outputs": [],
   "source": [
    "def main():\n",
    "    session = Session()\n",
    "    count = 200\n",
    "    while True:\n",
    "        try:\n",
    "            tws = api.home_timeline(count=count)\n",
    "            logger.info(\n",
    "                \"got %d tweets from home timeline (count=%d)\",\n",
    "                len(tws), count)\n",
    "            for tw in tws:\n",
    "                try:\n",
    "                    update_tweet_info(session, tw)\n",
    "                except Exception as e:\n",
    "                    session.rollback()\n",
    "                    logger.exception(\n",
    "                        \"Exception during recording tweet %d\",\n",
    "                        tw.id)\n",
    "            logger.info(\"Recorded tweets to db\")\n",
    "            download_all_media(session)\n",
    "            logger.info(\"Downloaded all media\")\n",
    "        except Exception as e:\n",
    "            session.rollback()\n",
    "            logger.exception(\"Exception during fetching home timeline\")\n",
    "        time.sleep(70)\n",
    "\n",
    "    return 0"
   ]
  }
 ],
 "metadata": {
  "kernelspec": {
   "display_name": "Python 3",
   "language": "python",
   "name": "python3"
  },
  "language_info": {
   "codemirror_mode": {
    "name": "ipython",
    "version": 3
   },
   "file_extension": ".py",
   "mimetype": "text/x-python",
   "name": "python",
   "nbconvert_exporter": "python",
   "pygments_lexer": "ipython3",
   "version": "3.7.5"
  }
 },
 "nbformat": 4,
 "nbformat_minor": 4
}
