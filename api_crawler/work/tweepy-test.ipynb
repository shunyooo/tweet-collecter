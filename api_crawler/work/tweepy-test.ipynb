{
 "cells": [
  {
   "cell_type": "markdown",
   "metadata": {},
   "source": [
    "# とりあえず試してみる"
   ]
  },
  {
   "cell_type": "code",
   "execution_count": 7,
   "metadata": {},
   "outputs": [
    {
     "data": {
      "text/plain": [
       "['/config.ini']"
      ]
     },
     "execution_count": 7,
     "metadata": {},
     "output_type": "execute_result"
    }
   ],
   "source": [
    "import configparser\n",
    "config = configparser.ConfigParser()\n",
    "config.read('/config.ini')"
   ]
  },
  {
   "cell_type": "code",
   "execution_count": 8,
   "metadata": {},
   "outputs": [],
   "source": [
    "api_con = config['api']"
   ]
  },
  {
   "cell_type": "code",
   "execution_count": 9,
   "metadata": {},
   "outputs": [],
   "source": [
    "import tweepy\n",
    "auth = tweepy.OAuthHandler(api_con['API_KEY'], api_con['API_SECRET_KEY'])\n",
    "auth.set_access_token(api_con['ACCESS_TOKEN'], api_con['ACCESS_TOKEN_SECRET'])"
   ]
  },
  {
   "cell_type": "code",
   "execution_count": 10,
   "metadata": {},
   "outputs": [],
   "source": [
    "api = tweepy.API(auth)"
   ]
  },
  {
   "cell_type": "markdown",
   "metadata": {},
   "source": [
    "# 検索"
   ]
  },
  {
   "cell_type": "code",
   "execution_count": 11,
   "metadata": {},
   "outputs": [],
   "source": [
    "word='ダンジョン飯'\n",
    "count=10\n",
    "results = api.search(q=word, count=count)"
   ]
  },
  {
   "cell_type": "code",
   "execution_count": 12,
   "metadata": {},
   "outputs": [],
   "source": [
    "status = results[6]"
   ]
  },
  {
   "cell_type": "code",
   "execution_count": 13,
   "metadata": {},
   "outputs": [
    {
     "data": {
      "text/plain": [
       "'敵意が壊すものを愛情が直すのだ'"
      ]
     },
     "execution_count": 13,
     "metadata": {},
     "output_type": "execute_result"
    }
   ],
   "source": [
    "status.author.description"
   ]
  },
  {
   "cell_type": "code",
   "execution_count": 14,
   "metadata": {},
   "outputs": [
    {
     "data": {
      "text/plain": [
       "'アレノさんダンジョン飯読んでたのか'"
      ]
     },
     "execution_count": 14,
     "metadata": {},
     "output_type": "execute_result"
    }
   ],
   "source": [
    "status.text"
   ]
  },
  {
   "cell_type": "markdown",
   "metadata": {},
   "source": [
    "# Streaming\n",
    "まだ生きてるっぽい  \n",
    "http://westplain.sakuraweb.com/translate/twitter/Documentation/Streaming-APIs/Public-API/POST-statuses-filter.cgi"
   ]
  },
  {
   "cell_type": "code",
   "execution_count": 1,
   "metadata": {},
   "outputs": [
    {
     "name": "stdout",
     "output_type": "stream",
     "text": [
      "read config → /config.ini\n",
      "2019-10-19 20:18:18,437 INFO sqlalchemy.engine.base.Engine SHOW VARIABLES LIKE 'sql_mode'\n",
      "2019-10-19 20:18:18,438 INFO sqlalchemy.engine.base.Engine ()\n",
      "2019-10-19 20:18:18,709 INFO sqlalchemy.engine.base.Engine SELECT DATABASE()\n",
      "2019-10-19 20:18:18,711 INFO sqlalchemy.engine.base.Engine ()\n",
      "2019-10-19 20:18:18,979 INFO sqlalchemy.engine.base.Engine show collation where `Charset` = 'utf8mb4' and `Collation` = 'utf8mb4_bin'\n",
      "2019-10-19 20:18:18,980 INFO sqlalchemy.engine.base.Engine ()\n",
      "2019-10-19 20:18:19,114 INFO sqlalchemy.engine.base.Engine SELECT CAST('test plain returns' AS CHAR(60)) AS anon_1\n",
      "2019-10-19 20:18:19,115 INFO sqlalchemy.engine.base.Engine ()\n",
      "2019-10-19 20:18:19,249 INFO sqlalchemy.engine.base.Engine SELECT CAST('test unicode returns' AS CHAR(60)) AS anon_1\n",
      "2019-10-19 20:18:19,250 INFO sqlalchemy.engine.base.Engine ()\n",
      "2019-10-19 20:18:19,528 INFO sqlalchemy.engine.base.Engine SELECT CAST('test collated returns' AS CHAR CHARACTER SET utf8mb4) COLLATE utf8mb4_bin AS anon_1\n",
      "2019-10-19 20:18:19,529 INFO sqlalchemy.engine.base.Engine ()\n",
      "2019-10-19 20:18:19,794 INFO sqlalchemy.engine.base.Engine DESCRIBE `tweets`\n",
      "2019-10-19 20:18:19,796 INFO sqlalchemy.engine.base.Engine ()\n",
      "2019-10-19 20:18:19,931 INFO sqlalchemy.engine.base.Engine DESCRIBE `users`\n",
      "2019-10-19 20:18:19,932 INFO sqlalchemy.engine.base.Engine ()\n",
      "2019-10-19 20:18:20,068 INFO sqlalchemy.engine.base.Engine DESCRIBE `media`\n",
      "2019-10-19 20:18:20,069 INFO sqlalchemy.engine.base.Engine ()\n",
      "2019-10-19 20:18:20,203 INFO sqlalchemy.engine.base.Engine DESCRIBE `tweet_hashtags`\n",
      "2019-10-19 20:18:20,204 INFO sqlalchemy.engine.base.Engine ()\n",
      "2019-10-19 20:18:20,401 INFO sqlalchemy.engine.base.Engine DESCRIBE `tweet_urls`\n",
      "2019-10-19 20:18:20,402 INFO sqlalchemy.engine.base.Engine ()\n",
      "2019-10-19 20:18:20,536 INFO sqlalchemy.engine.base.Engine DESCRIBE `tweet_symbols`\n",
      "2019-10-19 20:18:20,537 INFO sqlalchemy.engine.base.Engine ()\n",
      "2019-10-19 20:18:20,671 INFO sqlalchemy.engine.base.Engine DESCRIBE `tweet_user_mentions`\n",
      "2019-10-19 20:18:20,672 INFO sqlalchemy.engine.base.Engine ()\n"
     ]
    }
   ],
   "source": [
    "import tweepy\n",
    "from utils import update_tweet_info\n",
    "from databases import refresh_session\n",
    "class MyStreamListener(tweepy.StreamListener):\n",
    "    def on_status(self, tw):\n",
    "        print('got')\n",
    "        session = refresh_session()\n",
    "        update_tweet_info(session, tw)"
   ]
  },
  {
   "cell_type": "code",
   "execution_count": 2,
   "metadata": {},
   "outputs": [],
   "source": [
    "from apis import api\n",
    "myStreamListener = MyStreamListener()\n",
    "myStream = tweepy.Stream(auth = api.auth, listener=myStreamListener)"
   ]
  },
  {
   "cell_type": "code",
   "execution_count": null,
   "metadata": {},
   "outputs": [],
   "source": [
    "myStream.filter(track=['python'])"
   ]
  }
 ],
 "metadata": {
  "kernelspec": {
   "display_name": "Python 3",
   "language": "python",
   "name": "python3"
  },
  "language_info": {
   "codemirror_mode": {
    "name": "ipython",
    "version": 3
   },
   "file_extension": ".py",
   "mimetype": "text/x-python",
   "name": "python",
   "nbconvert_exporter": "python",
   "pygments_lexer": "ipython3",
   "version": "3.7.5"
  }
 },
 "nbformat": 4,
 "nbformat_minor": 4
}
